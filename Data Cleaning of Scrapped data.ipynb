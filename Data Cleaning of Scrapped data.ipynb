{
 "cells": [
  {
   "cell_type": "markdown",
   "id": "9e6c455a",
   "metadata": {},
   "source": [
    "# 1. Import library"
   ]
  },
  {
   "cell_type": "code",
   "execution_count": 1,
   "id": "6eff0b4a",
   "metadata": {},
   "outputs": [],
   "source": [
    "import pandas as pd\n",
    "import numpy as np"
   ]
  },
  {
   "cell_type": "markdown",
   "id": "26846017",
   "metadata": {},
   "source": [
    "# 2. Read csv"
   ]
  },
  {
   "cell_type": "code",
   "execution_count": 233,
   "id": "b644a3bc",
   "metadata": {},
   "outputs": [],
   "source": [
    "df = pd.read_csv('c:/Users/Sohal/DATA scinece/Job analytics project/hello.csv')"
   ]
  },
  {
   "cell_type": "code",
   "execution_count": 278,
   "id": "97ae01f1",
   "metadata": {},
   "outputs": [
    {
     "data": {
      "text/html": [
       "<div>\n",
       "<style scoped>\n",
       "    .dataframe tbody tr th:only-of-type {\n",
       "        vertical-align: middle;\n",
       "    }\n",
       "\n",
       "    .dataframe tbody tr th {\n",
       "        vertical-align: top;\n",
       "    }\n",
       "\n",
       "    .dataframe thead th {\n",
       "        text-align: right;\n",
       "    }\n",
       "</style>\n",
       "<table border=\"1\" class=\"dataframe\">\n",
       "  <thead>\n",
       "    <tr style=\"text-align: right;\">\n",
       "      <th></th>\n",
       "      <th>Designation</th>\n",
       "      <th>Name</th>\n",
       "      <th>Total_applicants</th>\n",
       "      <th>LinkedIn_Followers</th>\n",
       "      <th>Level</th>\n",
       "      <th>Involvement</th>\n",
       "      <th>Employee_count</th>\n",
       "      <th>Industry</th>\n",
       "      <th>city</th>\n",
       "      <th>state</th>\n",
       "      <th>country</th>\n",
       "    </tr>\n",
       "  </thead>\n",
       "  <tbody>\n",
       "    <tr>\n",
       "      <th>0</th>\n",
       "      <td>Quality Analyst Automation</td>\n",
       "      <td>Uplers</td>\n",
       "      <td>122</td>\n",
       "      <td>668410</td>\n",
       "      <td>Full-time</td>\n",
       "      <td>Associate</td>\n",
       "      <td>5000</td>\n",
       "      <td>IT Services and IT Consulting</td>\n",
       "      <td>Jaipur</td>\n",
       "      <td>Rajasthan</td>\n",
       "      <td>India</td>\n",
       "    </tr>\n",
       "    <tr>\n",
       "      <th>1</th>\n",
       "      <td>QA Automation Tester</td>\n",
       "      <td>Uplers</td>\n",
       "      <td>0</td>\n",
       "      <td>668410</td>\n",
       "      <td>Full-time</td>\n",
       "      <td>Associate</td>\n",
       "      <td>5000</td>\n",
       "      <td>IT Services and IT Consulting</td>\n",
       "      <td>Jaipur</td>\n",
       "      <td>Rajasthan</td>\n",
       "      <td>India</td>\n",
       "    </tr>\n",
       "    <tr>\n",
       "      <th>2</th>\n",
       "      <td>Technology Analyst - Mainframe (3-5 years) - J...</td>\n",
       "      <td>Infosys</td>\n",
       "      <td>29</td>\n",
       "      <td>6457687</td>\n",
       "      <td>Full-time</td>\n",
       "      <td>Associate</td>\n",
       "      <td>10001</td>\n",
       "      <td>IT Services and IT Consulting</td>\n",
       "      <td>Jaipur</td>\n",
       "      <td>Rajasthan</td>\n",
       "      <td>India</td>\n",
       "    </tr>\n",
       "    <tr>\n",
       "      <th>3</th>\n",
       "      <td>Web Developer - Python</td>\n",
       "      <td>Uplers</td>\n",
       "      <td>161</td>\n",
       "      <td>668410</td>\n",
       "      <td>Full-time</td>\n",
       "      <td>Mid-Senior level</td>\n",
       "      <td>5000</td>\n",
       "      <td>IT Services and IT Consulting</td>\n",
       "      <td>Chennai</td>\n",
       "      <td>Tamil Nadu</td>\n",
       "      <td>India</td>\n",
       "    </tr>\n",
       "    <tr>\n",
       "      <th>4</th>\n",
       "      <td>Web Developer - Python</td>\n",
       "      <td>Uplers</td>\n",
       "      <td>75</td>\n",
       "      <td>668410</td>\n",
       "      <td>Full-time</td>\n",
       "      <td>Mid-Senior level</td>\n",
       "      <td>5000</td>\n",
       "      <td>IT Services and IT Consulting</td>\n",
       "      <td>Noida</td>\n",
       "      <td>Uttar Pradesh</td>\n",
       "      <td>India</td>\n",
       "    </tr>\n",
       "    <tr>\n",
       "      <th>...</th>\n",
       "      <td>...</td>\n",
       "      <td>...</td>\n",
       "      <td>...</td>\n",
       "      <td>...</td>\n",
       "      <td>...</td>\n",
       "      <td>...</td>\n",
       "      <td>...</td>\n",
       "      <td>...</td>\n",
       "      <td>...</td>\n",
       "      <td>...</td>\n",
       "      <td>...</td>\n",
       "    </tr>\n",
       "    <tr>\n",
       "      <th>335</th>\n",
       "      <td>Android Developer- WFH</td>\n",
       "      <td>Uplers</td>\n",
       "      <td>41</td>\n",
       "      <td>668410</td>\n",
       "      <td>Full-time</td>\n",
       "      <td>Mid-Senior level</td>\n",
       "      <td>5000</td>\n",
       "      <td>IT Services and IT Consulting</td>\n",
       "      <td>Bengaluru</td>\n",
       "      <td>Karnataka</td>\n",
       "      <td>India</td>\n",
       "    </tr>\n",
       "    <tr>\n",
       "      <th>336</th>\n",
       "      <td>Assistant Manager-BFS024323</td>\n",
       "      <td>Genpact</td>\n",
       "      <td>25</td>\n",
       "      <td>2258530</td>\n",
       "      <td>Full-time</td>\n",
       "      <td>Associate</td>\n",
       "      <td>10001</td>\n",
       "      <td>IT Services and IT Consulting</td>\n",
       "      <td>Bengaluru</td>\n",
       "      <td>Karnataka</td>\n",
       "      <td>India</td>\n",
       "    </tr>\n",
       "    <tr>\n",
       "      <th>337</th>\n",
       "      <td>Developer</td>\n",
       "      <td>Wipro</td>\n",
       "      <td>0</td>\n",
       "      <td>6404693</td>\n",
       "      <td>Full-time</td>\n",
       "      <td>Entry level</td>\n",
       "      <td>10001</td>\n",
       "      <td>IT Services and IT Consulting</td>\n",
       "      <td>Delhi</td>\n",
       "      <td>Delhi</td>\n",
       "      <td>India</td>\n",
       "    </tr>\n",
       "    <tr>\n",
       "      <th>338</th>\n",
       "      <td>Assurance - Consultant</td>\n",
       "      <td>EY</td>\n",
       "      <td>8</td>\n",
       "      <td>6953289</td>\n",
       "      <td>Full-time</td>\n",
       "      <td>Associate</td>\n",
       "      <td>10001</td>\n",
       "      <td>Accounting</td>\n",
       "      <td>Kolkata</td>\n",
       "      <td>West Bengal</td>\n",
       "      <td>India</td>\n",
       "    </tr>\n",
       "    <tr>\n",
       "      <th>339</th>\n",
       "      <td>Technical Lead</td>\n",
       "      <td>Wipro</td>\n",
       "      <td>51</td>\n",
       "      <td>6404693</td>\n",
       "      <td>Full-time</td>\n",
       "      <td>Mid-Senior level</td>\n",
       "      <td>10001</td>\n",
       "      <td>IT Services and IT Consulting</td>\n",
       "      <td>Bengaluru</td>\n",
       "      <td>Karnataka</td>\n",
       "      <td>India</td>\n",
       "    </tr>\n",
       "  </tbody>\n",
       "</table>\n",
       "<p>334 rows × 11 columns</p>\n",
       "</div>"
      ],
      "text/plain": [
       "                                           Designation     Name  \\\n",
       "0                           Quality Analyst Automation   Uplers   \n",
       "1                                 QA Automation Tester   Uplers   \n",
       "2    Technology Analyst - Mainframe (3-5 years) - J...  Infosys   \n",
       "3                               Web Developer - Python   Uplers   \n",
       "4                               Web Developer - Python   Uplers   \n",
       "..                                                 ...      ...   \n",
       "335                             Android Developer- WFH   Uplers   \n",
       "336                        Assistant Manager-BFS024323  Genpact   \n",
       "337                                          Developer    Wipro   \n",
       "338                             Assurance - Consultant       EY   \n",
       "339                                     Technical Lead    Wipro   \n",
       "\n",
       "     Total_applicants LinkedIn_Followers       Level        Involvement  \\\n",
       "0                 122             668410  Full-time           Associate   \n",
       "1                   0             668410  Full-time           Associate   \n",
       "2                  29            6457687  Full-time           Associate   \n",
       "3                 161             668410  Full-time    Mid-Senior level   \n",
       "4                  75             668410  Full-time    Mid-Senior level   \n",
       "..                ...                ...         ...                ...   \n",
       "335                41             668410  Full-time    Mid-Senior level   \n",
       "336                25            2258530  Full-time           Associate   \n",
       "337                 0            6404693  Full-time         Entry level   \n",
       "338                 8            6953289  Full-time           Associate   \n",
       "339                51            6404693  Full-time    Mid-Senior level   \n",
       "\n",
       "     Employee_count                        Industry       city  \\\n",
       "0              5000   IT Services and IT Consulting     Jaipur   \n",
       "1              5000   IT Services and IT Consulting     Jaipur   \n",
       "2             10001   IT Services and IT Consulting     Jaipur   \n",
       "3              5000   IT Services and IT Consulting    Chennai   \n",
       "4              5000   IT Services and IT Consulting      Noida   \n",
       "..              ...                             ...        ...   \n",
       "335            5000   IT Services and IT Consulting  Bengaluru   \n",
       "336           10001   IT Services and IT Consulting  Bengaluru   \n",
       "337           10001   IT Services and IT Consulting      Delhi   \n",
       "338           10001                      Accounting    Kolkata   \n",
       "339           10001   IT Services and IT Consulting  Bengaluru   \n",
       "\n",
       "              state country  \n",
       "0         Rajasthan   India  \n",
       "1         Rajasthan   India  \n",
       "2         Rajasthan   India  \n",
       "3        Tamil Nadu   India  \n",
       "4     Uttar Pradesh   India  \n",
       "..              ...     ...  \n",
       "335       Karnataka   India  \n",
       "336       Karnataka   India  \n",
       "337           Delhi   India  \n",
       "338     West Bengal   India  \n",
       "339       Karnataka   India  \n",
       "\n",
       "[334 rows x 11 columns]"
      ]
     },
     "execution_count": 278,
     "metadata": {},
     "output_type": "execute_result"
    }
   ],
   "source": [
    "df"
   ]
  },
  {
   "cell_type": "markdown",
   "id": "6c983bd6",
   "metadata": {},
   "source": [
    "# 3. Check nulls"
   ]
  },
  {
   "cell_type": "code",
   "execution_count": 235,
   "id": "c92c8d3d",
   "metadata": {},
   "outputs": [
    {
     "data": {
      "text/plain": [
       "Designation                      0\n",
       "Name                             0\n",
       "Location                         0\n",
       "Level_and_involvement            0\n",
       "Total_applicants                41\n",
       "Industry_and_Employee_count      0\n",
       "LinkedIn_Followers             208\n",
       "dtype: int64"
      ]
     },
     "execution_count": 235,
     "metadata": {},
     "output_type": "execute_result"
    }
   ],
   "source": [
    "df.isnull().sum()"
   ]
  },
  {
   "cell_type": "markdown",
   "id": "1070ba6c",
   "metadata": {},
   "source": [
    "# 4. Check Duplicates"
   ]
  },
  {
   "cell_type": "code",
   "execution_count": 254,
   "id": "6b66388f",
   "metadata": {},
   "outputs": [
    {
     "data": {
      "text/plain": [
       "6"
      ]
     },
     "execution_count": 254,
     "metadata": {},
     "output_type": "execute_result"
    }
   ],
   "source": [
    "df.duplicated().sum()"
   ]
  },
  {
   "cell_type": "markdown",
   "id": "9caa7504",
   "metadata": {},
   "source": [
    "# 5. Break down of Level_and_involvement column "
   ]
  },
  {
   "cell_type": "code",
   "execution_count": 237,
   "id": "2c7c78e9",
   "metadata": {},
   "outputs": [],
   "source": [
    "df[['Level','Involvement']] = df['Level_and_involvement'].str.split('·', expand=True)"
   ]
  },
  {
   "cell_type": "markdown",
   "id": "a4cac7b6",
   "metadata": {},
   "source": [
    "# 6. Remove noise and unwanted text from Total_applicants column"
   ]
  },
  {
   "cell_type": "code",
   "execution_count": 238,
   "id": "2321a9e4",
   "metadata": {},
   "outputs": [],
   "source": [
    "df['Total_applicants'] = df['Total_applicants'].str.replace(' applicants', '').str.replace(' applicant', '').fillna(0).astype(int)"
   ]
  },
  {
   "cell_type": "markdown",
   "id": "f227a9c3",
   "metadata": {},
   "source": [
    "# 7. Break down of Industry_and_Employee_count column"
   ]
  },
  {
   "cell_type": "code",
   "execution_count": 239,
   "id": "a872701a",
   "metadata": {},
   "outputs": [],
   "source": [
    "df[['Employee_count','Industry']] = df['Industry_and_Employee_count'].str.split('·', expand=True)"
   ]
  },
  {
   "cell_type": "markdown",
   "id": "7b5fcacb",
   "metadata": {},
   "source": [
    "# 8. Remove noise and unwanted text from Employee_count column"
   ]
  },
  {
   "cell_type": "code",
   "execution_count": 240,
   "id": "184234a0",
   "metadata": {},
   "outputs": [
    {
     "name": "stderr",
     "output_type": "stream",
     "text": [
      "C:\\Users\\sohal\\AppData\\Local\\Temp\\ipykernel_12168\\2752797503.py:1: FutureWarning: The default value of regex will change from True to False in a future version. In addition, single character regular expressions will *not* be treated as literal strings when regex=True.\n",
      "  df['Employee_count'] = df['Employee_count'].str.replace(',', '').str.replace(' employees', '').str.replace('+', '').str[-6:].str.replace('-', '').astype(int)\n"
     ]
    }
   ],
   "source": [
    "df['Employee_count'] = df['Employee_count'].str.replace(',', '').str.replace(' employees', '').str.replace('+', '').str[-6:].str.replace('-', '').astype(int)"
   ]
  },
  {
   "cell_type": "markdown",
   "id": "956a7dda",
   "metadata": {},
   "source": [
    "# 9. Remove noise and unwanted text from LinkedIn_Followers column"
   ]
  },
  {
   "cell_type": "code",
   "execution_count": 241,
   "id": "f8178a60",
   "metadata": {},
   "outputs": [],
   "source": [
    "df['LinkedIn_Followers'] = df['LinkedIn_Followers'].str.replace(' followers', '').str.replace(',', '')"
   ]
  },
  {
   "cell_type": "markdown",
   "id": "71d04520",
   "metadata": {},
   "source": [
    "# 10. Remove noise and replace data points of LinkedIn_Followers column"
   ]
  },
  {
   "cell_type": "code",
   "execution_count": 242,
   "id": "05383b42",
   "metadata": {},
   "outputs": [],
   "source": [
    "followers = {'Uplers': 668410,\n",
    "             'Infosys': 6457687,\n",
    "             'Sutherland': 480832,\n",
    "             'Genpact': 2258530,\n",
    "             'Accenture in India': 1494146,\n",
    "             'Wipro': 6404693,\n",
    "             'Tata Consultancy Services': 11324016,\n",
    "             'UST': 724373,\n",
    "             'LTIMindtree': 58311,\n",
    "             'JLL': 1596438,\n",
    "             'EY': 6953289,\n",
    "             'Vodafone Idea Limited': 225455}\n",
    "\n",
    "for x in followers:\n",
    "    df.loc[df['Name'] == x, 'LinkedIn_Followers'] = followers[x]"
   ]
  },
  {
   "cell_type": "markdown",
   "id": "af4e417d",
   "metadata": {},
   "source": [
    "# 11. Break down of Location column"
   ]
  },
  {
   "cell_type": "code",
   "execution_count": 243,
   "id": "506866f8",
   "metadata": {},
   "outputs": [],
   "source": [
    "df[['city','state','country']] = df['Location'].str.split(\",\", expand=True)"
   ]
  },
  {
   "cell_type": "code",
   "execution_count": 244,
   "id": "3bdd395d",
   "metadata": {},
   "outputs": [
    {
     "data": {
      "text/plain": [
       "Designation                     0\n",
       "Name                            0\n",
       "Location                        0\n",
       "Level_and_involvement           0\n",
       "Total_applicants                0\n",
       "Industry_and_Employee_count     0\n",
       "LinkedIn_Followers              0\n",
       "Level                           0\n",
       "Involvement                     0\n",
       "Employee_count                  0\n",
       "Industry                        0\n",
       "city                            0\n",
       "state                          17\n",
       "country                        31\n",
       "dtype: int64"
      ]
     },
     "execution_count": 244,
     "metadata": {},
     "output_type": "execute_result"
    }
   ],
   "source": [
    "df.isnull().sum()"
   ]
  },
  {
   "cell_type": "markdown",
   "id": "6b36d7b6",
   "metadata": {},
   "source": [
    "# 12. Delete all unwanted columns from data frame"
   ]
  },
  {
   "cell_type": "code",
   "execution_count": 247,
   "id": "a8b0afaa",
   "metadata": {},
   "outputs": [],
   "source": [
    "df.drop(['Location','Level_and_involvement', 'Industry_and_Employee_count'], axis=1, inplace = True)"
   ]
  },
  {
   "cell_type": "markdown",
   "id": "5d9a223f",
   "metadata": {},
   "source": [
    "# 13. Drop Duplicates"
   ]
  },
  {
   "cell_type": "code",
   "execution_count": 258,
   "id": "bc48684c",
   "metadata": {},
   "outputs": [],
   "source": [
    "df.drop_duplicates(inplace = True)"
   ]
  },
  {
   "cell_type": "markdown",
   "id": "67709c08",
   "metadata": {},
   "source": [
    "# 14. Jobs table"
   ]
  },
  {
   "cell_type": "code",
   "execution_count": 261,
   "id": "5be2a9a8",
   "metadata": {},
   "outputs": [],
   "source": [
    "jobs = df[['city','state','country','Designation']].copy()"
   ]
  },
  {
   "cell_type": "code",
   "execution_count": 262,
   "id": "17e5fc8f",
   "metadata": {},
   "outputs": [],
   "source": [
    "jobs['job_id'] = [i for i in range(1, 335)]"
   ]
  },
  {
   "cell_type": "code",
   "execution_count": 265,
   "id": "ce07c613",
   "metadata": {},
   "outputs": [],
   "source": [
    "jobs = jobs[['job_id', 'Designation', 'city','state','country']].copy()"
   ]
  },
  {
   "cell_type": "code",
   "execution_count": 298,
   "id": "d5378976",
   "metadata": {},
   "outputs": [],
   "source": [
    "jobs['Company_id'] = company['Company_id']"
   ]
  },
  {
   "cell_type": "code",
   "execution_count": 309,
   "id": "bcbb67d7",
   "metadata": {},
   "outputs": [],
   "source": [
    "jobs['Details_id'] =  [i for i in range(1001, 1335)]"
   ]
  },
  {
   "cell_type": "code",
   "execution_count": 310,
   "id": "71eb7bae",
   "metadata": {},
   "outputs": [
    {
     "data": {
      "text/html": [
       "<div>\n",
       "<style scoped>\n",
       "    .dataframe tbody tr th:only-of-type {\n",
       "        vertical-align: middle;\n",
       "    }\n",
       "\n",
       "    .dataframe tbody tr th {\n",
       "        vertical-align: top;\n",
       "    }\n",
       "\n",
       "    .dataframe thead th {\n",
       "        text-align: right;\n",
       "    }\n",
       "</style>\n",
       "<table border=\"1\" class=\"dataframe\">\n",
       "  <thead>\n",
       "    <tr style=\"text-align: right;\">\n",
       "      <th></th>\n",
       "      <th>job_id</th>\n",
       "      <th>Designation</th>\n",
       "      <th>city</th>\n",
       "      <th>state</th>\n",
       "      <th>country</th>\n",
       "      <th>Company_id</th>\n",
       "      <th>Details_id</th>\n",
       "    </tr>\n",
       "  </thead>\n",
       "  <tbody>\n",
       "    <tr>\n",
       "      <th>0</th>\n",
       "      <td>1</td>\n",
       "      <td>Quality Analyst Automation</td>\n",
       "      <td>Jaipur</td>\n",
       "      <td>Rajasthan</td>\n",
       "      <td>India</td>\n",
       "      <td>5001</td>\n",
       "      <td>1001</td>\n",
       "    </tr>\n",
       "    <tr>\n",
       "      <th>1</th>\n",
       "      <td>2</td>\n",
       "      <td>QA Automation Tester</td>\n",
       "      <td>Jaipur</td>\n",
       "      <td>Rajasthan</td>\n",
       "      <td>India</td>\n",
       "      <td>5001</td>\n",
       "      <td>1002</td>\n",
       "    </tr>\n",
       "    <tr>\n",
       "      <th>2</th>\n",
       "      <td>3</td>\n",
       "      <td>Technology Analyst - Mainframe (3-5 years) - J...</td>\n",
       "      <td>Jaipur</td>\n",
       "      <td>Rajasthan</td>\n",
       "      <td>India</td>\n",
       "      <td>5002</td>\n",
       "      <td>1003</td>\n",
       "    </tr>\n",
       "    <tr>\n",
       "      <th>3</th>\n",
       "      <td>4</td>\n",
       "      <td>Web Developer - Python</td>\n",
       "      <td>Chennai</td>\n",
       "      <td>Tamil Nadu</td>\n",
       "      <td>India</td>\n",
       "      <td>5001</td>\n",
       "      <td>1004</td>\n",
       "    </tr>\n",
       "    <tr>\n",
       "      <th>4</th>\n",
       "      <td>5</td>\n",
       "      <td>Web Developer - Python</td>\n",
       "      <td>Noida</td>\n",
       "      <td>Uttar Pradesh</td>\n",
       "      <td>India</td>\n",
       "      <td>5001</td>\n",
       "      <td>1005</td>\n",
       "    </tr>\n",
       "    <tr>\n",
       "      <th>...</th>\n",
       "      <td>...</td>\n",
       "      <td>...</td>\n",
       "      <td>...</td>\n",
       "      <td>...</td>\n",
       "      <td>...</td>\n",
       "      <td>...</td>\n",
       "      <td>...</td>\n",
       "    </tr>\n",
       "    <tr>\n",
       "      <th>335</th>\n",
       "      <td>330</td>\n",
       "      <td>Android Developer- WFH</td>\n",
       "      <td>Bengaluru</td>\n",
       "      <td>Karnataka</td>\n",
       "      <td>India</td>\n",
       "      <td>5001</td>\n",
       "      <td>1330</td>\n",
       "    </tr>\n",
       "    <tr>\n",
       "      <th>336</th>\n",
       "      <td>331</td>\n",
       "      <td>Assistant Manager-BFS024323</td>\n",
       "      <td>Bengaluru</td>\n",
       "      <td>Karnataka</td>\n",
       "      <td>India</td>\n",
       "      <td>5004</td>\n",
       "      <td>1331</td>\n",
       "    </tr>\n",
       "    <tr>\n",
       "      <th>337</th>\n",
       "      <td>332</td>\n",
       "      <td>Developer</td>\n",
       "      <td>Delhi</td>\n",
       "      <td>Delhi</td>\n",
       "      <td>India</td>\n",
       "      <td>5006</td>\n",
       "      <td>1332</td>\n",
       "    </tr>\n",
       "    <tr>\n",
       "      <th>338</th>\n",
       "      <td>333</td>\n",
       "      <td>Assurance - Consultant</td>\n",
       "      <td>Kolkata</td>\n",
       "      <td>West Bengal</td>\n",
       "      <td>India</td>\n",
       "      <td>5011</td>\n",
       "      <td>1333</td>\n",
       "    </tr>\n",
       "    <tr>\n",
       "      <th>339</th>\n",
       "      <td>334</td>\n",
       "      <td>Technical Lead</td>\n",
       "      <td>Bengaluru</td>\n",
       "      <td>Karnataka</td>\n",
       "      <td>India</td>\n",
       "      <td>5006</td>\n",
       "      <td>1334</td>\n",
       "    </tr>\n",
       "  </tbody>\n",
       "</table>\n",
       "<p>334 rows × 7 columns</p>\n",
       "</div>"
      ],
      "text/plain": [
       "     job_id                                        Designation       city  \\\n",
       "0         1                         Quality Analyst Automation     Jaipur   \n",
       "1         2                               QA Automation Tester     Jaipur   \n",
       "2         3  Technology Analyst - Mainframe (3-5 years) - J...     Jaipur   \n",
       "3         4                             Web Developer - Python    Chennai   \n",
       "4         5                             Web Developer - Python      Noida   \n",
       "..      ...                                                ...        ...   \n",
       "335     330                             Android Developer- WFH  Bengaluru   \n",
       "336     331                        Assistant Manager-BFS024323  Bengaluru   \n",
       "337     332                                          Developer      Delhi   \n",
       "338     333                             Assurance - Consultant    Kolkata   \n",
       "339     334                                     Technical Lead  Bengaluru   \n",
       "\n",
       "              state country  Company_id  Details_id  \n",
       "0         Rajasthan   India        5001        1001  \n",
       "1         Rajasthan   India        5001        1002  \n",
       "2         Rajasthan   India        5002        1003  \n",
       "3        Tamil Nadu   India        5001        1004  \n",
       "4     Uttar Pradesh   India        5001        1005  \n",
       "..              ...     ...         ...         ...  \n",
       "335       Karnataka   India        5001        1330  \n",
       "336       Karnataka   India        5004        1331  \n",
       "337           Delhi   India        5006        1332  \n",
       "338     West Bengal   India        5011        1333  \n",
       "339       Karnataka   India        5006        1334  \n",
       "\n",
       "[334 rows x 7 columns]"
      ]
     },
     "execution_count": 310,
     "metadata": {},
     "output_type": "execute_result"
    }
   ],
   "source": [
    "jobs"
   ]
  },
  {
   "cell_type": "code",
   "execution_count": 319,
   "id": "0cfca832",
   "metadata": {},
   "outputs": [],
   "source": [
    "jobs.to_csv('jobs.csv', index = False)"
   ]
  },
  {
   "cell_type": "markdown",
   "id": "631f22e8",
   "metadata": {},
   "source": [
    "# 15. Company table"
   ]
  },
  {
   "cell_type": "code",
   "execution_count": 285,
   "id": "7cd76baa",
   "metadata": {},
   "outputs": [],
   "source": [
    "company = df[['Name', 'Industry', 'Employee_count', 'LinkedIn_Followers']].copy()"
   ]
  },
  {
   "cell_type": "code",
   "execution_count": 292,
   "id": "3a29ea2f",
   "metadata": {},
   "outputs": [],
   "source": [
    "ids = dict(zip(company['Name'].unique(), [i for i in range(5001, 5013)]))\n",
    "\n",
    "for i in ids:\n",
    "    company.loc[company['Name'] == i, 'Company_id'] = int(ids[i])"
   ]
  },
  {
   "cell_type": "code",
   "execution_count": 296,
   "id": "069afa61",
   "metadata": {},
   "outputs": [],
   "source": [
    "company['Company_id'] = company['Company_id'].astype(int)"
   ]
  },
  {
   "cell_type": "code",
   "execution_count": 301,
   "id": "5bce9d52",
   "metadata": {},
   "outputs": [],
   "source": [
    "company.drop_duplicates(inplace = True)"
   ]
  },
  {
   "cell_type": "code",
   "execution_count": 302,
   "id": "05f7bc44",
   "metadata": {},
   "outputs": [],
   "source": [
    "company = company[['Company_id', 'Name', 'Industry', 'Employee_count', 'LinkedIn_Followers']].copy()"
   ]
  },
  {
   "cell_type": "code",
   "execution_count": 303,
   "id": "5527b958",
   "metadata": {},
   "outputs": [
    {
     "data": {
      "text/html": [
       "<div>\n",
       "<style scoped>\n",
       "    .dataframe tbody tr th:only-of-type {\n",
       "        vertical-align: middle;\n",
       "    }\n",
       "\n",
       "    .dataframe tbody tr th {\n",
       "        vertical-align: top;\n",
       "    }\n",
       "\n",
       "    .dataframe thead th {\n",
       "        text-align: right;\n",
       "    }\n",
       "</style>\n",
       "<table border=\"1\" class=\"dataframe\">\n",
       "  <thead>\n",
       "    <tr style=\"text-align: right;\">\n",
       "      <th></th>\n",
       "      <th>Company_id</th>\n",
       "      <th>Name</th>\n",
       "      <th>Industry</th>\n",
       "      <th>Employee_count</th>\n",
       "      <th>LinkedIn_Followers</th>\n",
       "    </tr>\n",
       "  </thead>\n",
       "  <tbody>\n",
       "    <tr>\n",
       "      <th>0</th>\n",
       "      <td>5001</td>\n",
       "      <td>Uplers</td>\n",
       "      <td>IT Services and IT Consulting</td>\n",
       "      <td>5000</td>\n",
       "      <td>668410</td>\n",
       "    </tr>\n",
       "    <tr>\n",
       "      <th>2</th>\n",
       "      <td>5002</td>\n",
       "      <td>Infosys</td>\n",
       "      <td>IT Services and IT Consulting</td>\n",
       "      <td>10001</td>\n",
       "      <td>6457687</td>\n",
       "    </tr>\n",
       "    <tr>\n",
       "      <th>14</th>\n",
       "      <td>5003</td>\n",
       "      <td>Sutherland</td>\n",
       "      <td>IT Services and IT Consulting</td>\n",
       "      <td>10001</td>\n",
       "      <td>480832</td>\n",
       "    </tr>\n",
       "    <tr>\n",
       "      <th>17</th>\n",
       "      <td>5004</td>\n",
       "      <td>Genpact</td>\n",
       "      <td>IT Services and IT Consulting</td>\n",
       "      <td>10001</td>\n",
       "      <td>2258530</td>\n",
       "    </tr>\n",
       "    <tr>\n",
       "      <th>32</th>\n",
       "      <td>5005</td>\n",
       "      <td>Accenture in India</td>\n",
       "      <td>IT Services and IT Consulting</td>\n",
       "      <td>10001</td>\n",
       "      <td>1494146</td>\n",
       "    </tr>\n",
       "    <tr>\n",
       "      <th>38</th>\n",
       "      <td>5006</td>\n",
       "      <td>Wipro</td>\n",
       "      <td>IT Services and IT Consulting</td>\n",
       "      <td>10001</td>\n",
       "      <td>6404693</td>\n",
       "    </tr>\n",
       "    <tr>\n",
       "      <th>49</th>\n",
       "      <td>5007</td>\n",
       "      <td>Tata Consultancy Services</td>\n",
       "      <td>IT Services and IT Consulting</td>\n",
       "      <td>10001</td>\n",
       "      <td>11324016</td>\n",
       "    </tr>\n",
       "    <tr>\n",
       "      <th>60</th>\n",
       "      <td>5008</td>\n",
       "      <td>UST</td>\n",
       "      <td>IT Services and IT Consulting</td>\n",
       "      <td>10001</td>\n",
       "      <td>724373</td>\n",
       "    </tr>\n",
       "    <tr>\n",
       "      <th>70</th>\n",
       "      <td>5009</td>\n",
       "      <td>LTIMindtree</td>\n",
       "      <td>IT Services and IT Consulting</td>\n",
       "      <td>10001</td>\n",
       "      <td>58311</td>\n",
       "    </tr>\n",
       "    <tr>\n",
       "      <th>78</th>\n",
       "      <td>5010</td>\n",
       "      <td>JLL</td>\n",
       "      <td>Real Estate</td>\n",
       "      <td>10001</td>\n",
       "      <td>1596438</td>\n",
       "    </tr>\n",
       "    <tr>\n",
       "      <th>92</th>\n",
       "      <td>5011</td>\n",
       "      <td>EY</td>\n",
       "      <td>Accounting</td>\n",
       "      <td>10001</td>\n",
       "      <td>6953289</td>\n",
       "    </tr>\n",
       "    <tr>\n",
       "      <th>116</th>\n",
       "      <td>5012</td>\n",
       "      <td>Vodafone Idea Limited</td>\n",
       "      <td>Telecommunications</td>\n",
       "      <td>10001</td>\n",
       "      <td>225455</td>\n",
       "    </tr>\n",
       "  </tbody>\n",
       "</table>\n",
       "</div>"
      ],
      "text/plain": [
       "     Company_id                       Name                        Industry  \\\n",
       "0          5001                     Uplers   IT Services and IT Consulting   \n",
       "2          5002                    Infosys   IT Services and IT Consulting   \n",
       "14         5003                 Sutherland   IT Services and IT Consulting   \n",
       "17         5004                    Genpact   IT Services and IT Consulting   \n",
       "32         5005         Accenture in India   IT Services and IT Consulting   \n",
       "38         5006                      Wipro   IT Services and IT Consulting   \n",
       "49         5007  Tata Consultancy Services   IT Services and IT Consulting   \n",
       "60         5008                        UST   IT Services and IT Consulting   \n",
       "70         5009                LTIMindtree   IT Services and IT Consulting   \n",
       "78         5010                        JLL                     Real Estate   \n",
       "92         5011                         EY                      Accounting   \n",
       "116        5012      Vodafone Idea Limited              Telecommunications   \n",
       "\n",
       "     Employee_count LinkedIn_Followers  \n",
       "0              5000             668410  \n",
       "2             10001            6457687  \n",
       "14            10001             480832  \n",
       "17            10001            2258530  \n",
       "32            10001            1494146  \n",
       "38            10001            6404693  \n",
       "49            10001           11324016  \n",
       "60            10001             724373  \n",
       "70            10001              58311  \n",
       "78            10001            1596438  \n",
       "92            10001            6953289  \n",
       "116           10001             225455  "
      ]
     },
     "execution_count": 303,
     "metadata": {},
     "output_type": "execute_result"
    }
   ],
   "source": [
    "company"
   ]
  },
  {
   "cell_type": "code",
   "execution_count": 318,
   "id": "fc473b38",
   "metadata": {},
   "outputs": [],
   "source": [
    "company.to_csv('company.csv', index = False)"
   ]
  },
  {
   "cell_type": "markdown",
   "id": "d4d73c01",
   "metadata": {},
   "source": [
    "# 16. Details table"
   ]
  },
  {
   "cell_type": "code",
   "execution_count": 311,
   "id": "56bd9d14",
   "metadata": {},
   "outputs": [],
   "source": [
    "details = df[['Involvement', 'Level', 'Total_applicants']].copy()"
   ]
  },
  {
   "cell_type": "code",
   "execution_count": 313,
   "id": "445af551",
   "metadata": {},
   "outputs": [],
   "source": [
    "details['Details_id'] =[i for i in range(1001, 1335)]"
   ]
  },
  {
   "cell_type": "code",
   "execution_count": 315,
   "id": "047d4e59",
   "metadata": {},
   "outputs": [],
   "source": [
    "details = details[['Details_id', 'Involvement', 'Level', 'Total_applicants']]"
   ]
  },
  {
   "cell_type": "code",
   "execution_count": 316,
   "id": "7e761e38",
   "metadata": {},
   "outputs": [
    {
     "data": {
      "text/html": [
       "<div>\n",
       "<style scoped>\n",
       "    .dataframe tbody tr th:only-of-type {\n",
       "        vertical-align: middle;\n",
       "    }\n",
       "\n",
       "    .dataframe tbody tr th {\n",
       "        vertical-align: top;\n",
       "    }\n",
       "\n",
       "    .dataframe thead th {\n",
       "        text-align: right;\n",
       "    }\n",
       "</style>\n",
       "<table border=\"1\" class=\"dataframe\">\n",
       "  <thead>\n",
       "    <tr style=\"text-align: right;\">\n",
       "      <th></th>\n",
       "      <th>Details_id</th>\n",
       "      <th>Involvement</th>\n",
       "      <th>Level</th>\n",
       "      <th>Total_applicants</th>\n",
       "    </tr>\n",
       "  </thead>\n",
       "  <tbody>\n",
       "    <tr>\n",
       "      <th>0</th>\n",
       "      <td>1001</td>\n",
       "      <td>Associate</td>\n",
       "      <td>Full-time</td>\n",
       "      <td>122</td>\n",
       "    </tr>\n",
       "    <tr>\n",
       "      <th>1</th>\n",
       "      <td>1002</td>\n",
       "      <td>Associate</td>\n",
       "      <td>Full-time</td>\n",
       "      <td>0</td>\n",
       "    </tr>\n",
       "    <tr>\n",
       "      <th>2</th>\n",
       "      <td>1003</td>\n",
       "      <td>Associate</td>\n",
       "      <td>Full-time</td>\n",
       "      <td>29</td>\n",
       "    </tr>\n",
       "    <tr>\n",
       "      <th>3</th>\n",
       "      <td>1004</td>\n",
       "      <td>Mid-Senior level</td>\n",
       "      <td>Full-time</td>\n",
       "      <td>161</td>\n",
       "    </tr>\n",
       "    <tr>\n",
       "      <th>4</th>\n",
       "      <td>1005</td>\n",
       "      <td>Mid-Senior level</td>\n",
       "      <td>Full-time</td>\n",
       "      <td>75</td>\n",
       "    </tr>\n",
       "    <tr>\n",
       "      <th>...</th>\n",
       "      <td>...</td>\n",
       "      <td>...</td>\n",
       "      <td>...</td>\n",
       "      <td>...</td>\n",
       "    </tr>\n",
       "    <tr>\n",
       "      <th>335</th>\n",
       "      <td>1330</td>\n",
       "      <td>Mid-Senior level</td>\n",
       "      <td>Full-time</td>\n",
       "      <td>41</td>\n",
       "    </tr>\n",
       "    <tr>\n",
       "      <th>336</th>\n",
       "      <td>1331</td>\n",
       "      <td>Associate</td>\n",
       "      <td>Full-time</td>\n",
       "      <td>25</td>\n",
       "    </tr>\n",
       "    <tr>\n",
       "      <th>337</th>\n",
       "      <td>1332</td>\n",
       "      <td>Entry level</td>\n",
       "      <td>Full-time</td>\n",
       "      <td>0</td>\n",
       "    </tr>\n",
       "    <tr>\n",
       "      <th>338</th>\n",
       "      <td>1333</td>\n",
       "      <td>Associate</td>\n",
       "      <td>Full-time</td>\n",
       "      <td>8</td>\n",
       "    </tr>\n",
       "    <tr>\n",
       "      <th>339</th>\n",
       "      <td>1334</td>\n",
       "      <td>Mid-Senior level</td>\n",
       "      <td>Full-time</td>\n",
       "      <td>51</td>\n",
       "    </tr>\n",
       "  </tbody>\n",
       "</table>\n",
       "<p>334 rows × 4 columns</p>\n",
       "</div>"
      ],
      "text/plain": [
       "     Details_id        Involvement       Level  Total_applicants\n",
       "0          1001          Associate  Full-time                122\n",
       "1          1002          Associate  Full-time                  0\n",
       "2          1003          Associate  Full-time                 29\n",
       "3          1004   Mid-Senior level  Full-time                161\n",
       "4          1005   Mid-Senior level  Full-time                 75\n",
       "..          ...                ...         ...               ...\n",
       "335        1330   Mid-Senior level  Full-time                 41\n",
       "336        1331          Associate  Full-time                 25\n",
       "337        1332        Entry level  Full-time                  0\n",
       "338        1333          Associate  Full-time                  8\n",
       "339        1334   Mid-Senior level  Full-time                 51\n",
       "\n",
       "[334 rows x 4 columns]"
      ]
     },
     "execution_count": 316,
     "metadata": {},
     "output_type": "execute_result"
    }
   ],
   "source": [
    "details"
   ]
  },
  {
   "cell_type": "code",
   "execution_count": 317,
   "id": "b05a969c",
   "metadata": {},
   "outputs": [],
   "source": [
    "details.to_csv('details.csv', index = False)"
   ]
  },
  {
   "cell_type": "markdown",
   "id": "c42ca261",
   "metadata": {},
   "source": [
    "# 17. Create and Store the main csv file for Excel analysis "
   ]
  },
  {
   "cell_type": "code",
   "execution_count": 331,
   "id": "cee11baf",
   "metadata": {},
   "outputs": [],
   "source": [
    "df['job_id'] =  [i for i in range(1, 335)]"
   ]
  },
  {
   "cell_type": "code",
   "execution_count": 325,
   "id": "8e811f1a",
   "metadata": {},
   "outputs": [],
   "source": [
    "df['Details_id'] =  [i for i in range(1001, 1335)]"
   ]
  },
  {
   "cell_type": "code",
   "execution_count": 329,
   "id": "1428cf2f",
   "metadata": {},
   "outputs": [],
   "source": [
    "ids = dict(zip(df['Name'].unique(), [i for i in range(5001, 5013)]))\n",
    "\n",
    "for i in ids:\n",
    "    df.loc[df['Name'] == i, 'Company_id'] = ids[i]\n",
    "df['Company_id'] = df['Company_id'].astype(int)"
   ]
  },
  {
   "cell_type": "code",
   "execution_count": 333,
   "id": "990a3eda",
   "metadata": {},
   "outputs": [],
   "source": [
    "df.to_csv('main.csv', index = False)"
   ]
  },
  {
   "cell_type": "markdown",
   "id": "bf076c5c",
   "metadata": {},
   "source": [
    "# Thank You!"
   ]
  }
 ],
 "metadata": {
  "kernelspec": {
   "display_name": "Python 3 (ipykernel)",
   "language": "python",
   "name": "python3"
  },
  "language_info": {
   "codemirror_mode": {
    "name": "ipython",
    "version": 3
   },
   "file_extension": ".py",
   "mimetype": "text/x-python",
   "name": "python",
   "nbconvert_exporter": "python",
   "pygments_lexer": "ipython3",
   "version": "3.9.12"
  }
 },
 "nbformat": 4,
 "nbformat_minor": 5
}
